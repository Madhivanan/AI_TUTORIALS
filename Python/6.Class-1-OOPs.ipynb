{
 "cells": [
  {
   "cell_type": "code",
   "execution_count": 12,
   "id": "9ac00a02",
   "metadata": {},
   "outputs": [
    {
     "name": "stdout",
     "output_type": "stream",
     "text": [
      "Sub-fields in AI are:\n",
      "Machine Learning\n",
      "Neural Networks\n",
      "Vision\n",
      "Robotics\n",
      "Speech Processing\n",
      "Natural Language Processing\n"
     ]
    }
   ],
   "source": [
    "class FunctionAllMethods:\n",
    "    \n",
    "    def Subfields():\n",
    "        lists = [\n",
    "        \"Machine Learning\",\n",
    "        \"Neural Networks\",\n",
    "        \"Vision\",\n",
    "        \"Robotics\",\n",
    "        \"Speech Processing\",\n",
    "        \"Natural Language Processing\"\n",
    "        ]\n",
    "        return lists\n",
    "     # Create a function that checks whether the given number is Odd or Even\n",
    "    def OddEven(number):\n",
    "        if number % 2 == 0:\n",
    "            return number\n",
    "        else:\n",
    "            return 0\n",
    "    # Create a function that tells elegibility of marriage for male and female according to their age limit like 21 for male and 18 for female\n",
    "\n",
    "    def Elegible(gender, age):\n",
    "        if gender.lower() == \"male\":\n",
    "            if age > 21:\n",
    "                print(\"ELIGIBLE\")\n",
    "            else:\n",
    "                print(\"NOT ELIGIBLE\")\n",
    "        elif gender.lower() == \"female\":\n",
    "            if age > 18:\n",
    "                print(\"ELIGIBLE\")\n",
    "            else:\n",
    "                print(\"NOT ELIGIBLE\")\n",
    "        else:\n",
    "            print(\"Gender not valid\")\n",
    "\n",
    "nameList = FunctionAllMethods.Subfields()\n",
    "print(f\"Sub-fields in AI are:\")\n",
    "for name in nameList:\n",
    "    print(name)"
   ]
  },
  {
   "cell_type": "code",
   "execution_count": 13,
   "id": "0947582c",
   "metadata": {},
   "outputs": [
    {
     "name": "stdout",
     "output_type": "stream",
     "text": [
      "Enter a Number:\n"
     ]
    },
    {
     "ename": "ValueError",
     "evalue": "invalid literal for int() with base 10: ''",
     "output_type": "error",
     "traceback": [
      "\u001b[0;31m---------------------------------------------------------------------------\u001b[0m",
      "\u001b[0;31mValueError\u001b[0m                                Traceback (most recent call last)",
      "Cell \u001b[0;32mIn[13], line 1\u001b[0m\n\u001b[0;32m----> 1\u001b[0m result \u001b[38;5;241m=\u001b[39m FunctionAllMethods\u001b[38;5;241m.\u001b[39mOddEven(\u001b[38;5;28mint\u001b[39m(\u001b[38;5;28minput\u001b[39m(\u001b[38;5;124m\"\u001b[39m\u001b[38;5;124mEnter a Number:\u001b[39m\u001b[38;5;124m\"\u001b[39m)))\n\u001b[1;32m      3\u001b[0m \u001b[38;5;28;01mif\u001b[39;00m result \u001b[38;5;241m!=\u001b[39m \u001b[38;5;241m0\u001b[39m:\n\u001b[1;32m      4\u001b[0m     \u001b[38;5;28mprint\u001b[39m(\u001b[38;5;124mf\u001b[39m\u001b[38;5;124m\"\u001b[39m\u001b[38;5;132;01m{\u001b[39;00mresult\u001b[38;5;132;01m}\u001b[39;00m\u001b[38;5;124m is Even number\u001b[39m\u001b[38;5;124m\"\u001b[39m)\n",
      "\u001b[0;31mValueError\u001b[0m: invalid literal for int() with base 10: ''"
     ]
    }
   ],
   "source": [
    "result = FunctionAllMethods.OddEven(int(input(\"Enter a Number:\")))\n",
    "\n",
    "if result != 0:\n",
    "    print(f\"{result} is Even number\")"
   ]
  },
  {
   "cell_type": "code",
   "execution_count": 14,
   "id": "3f216bd8",
   "metadata": {},
   "outputs": [
    {
     "name": "stdout",
     "output_type": "stream",
     "text": [
      "Your Gender:male\n",
      "Your Age:33\n",
      "ELIGIBLE\n"
     ]
    }
   ],
   "source": [
    "gender = input(\"Your Gender:\")\n",
    "age = int(input(\"Your Age:\"))\n",
    "FunctionAllMethods.Elegible(gender, age)"
   ]
  },
  {
   "cell_type": "code",
   "execution_count": null,
   "id": "c8eed7de",
   "metadata": {},
   "outputs": [],
   "source": []
  }
 ],
 "metadata": {
  "kernelspec": {
   "display_name": "Python 3 (ipykernel)",
   "language": "python",
   "name": "python3"
  },
  "language_info": {
   "codemirror_mode": {
    "name": "ipython",
    "version": 3
   },
   "file_extension": ".py",
   "mimetype": "text/x-python",
   "name": "python",
   "nbconvert_exporter": "python",
   "pygments_lexer": "ipython3",
   "version": "3.11.5"
  }
 },
 "nbformat": 4,
 "nbformat_minor": 5
}
