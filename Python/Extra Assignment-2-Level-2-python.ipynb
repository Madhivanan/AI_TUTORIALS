{
 "cells": [
  {
   "cell_type": "code",
   "execution_count": 2,
   "id": "1762c2eb",
   "metadata": {},
   "outputs": [
    {
     "name": "stdout",
     "output_type": "stream",
     "text": [
      "0\n",
      "1\n",
      "2\n",
      "3\n",
      "4\n",
      "5\n",
      "6\n",
      "7\n",
      "8\n",
      "9\n",
      "10\n",
      "11\n",
      "12\n",
      "13\n",
      "14\n",
      "15\n",
      "16\n",
      "17\n",
      "18\n",
      "19\n"
     ]
    }
   ],
   "source": [
    "for index in range(0, 20):\n",
    "    print(index)"
   ]
  },
  {
   "cell_type": "code",
   "execution_count": 3,
   "id": "b3b084c3",
   "metadata": {},
   "outputs": [
    {
     "name": "stdout",
     "output_type": "stream",
     "text": [
      "10\n",
      "11\n",
      "12\n",
      "13\n",
      "14\n",
      "15\n",
      "16\n",
      "17\n",
      "18\n",
      "19\n"
     ]
    }
   ],
   "source": [
    "for index in range(10, 20):\n",
    "    print(index)"
   ]
  },
  {
   "cell_type": "code",
   "execution_count": 4,
   "id": "a10647bf",
   "metadata": {},
   "outputs": [
    {
     "name": "stdout",
     "output_type": "stream",
     "text": [
      "Number of item in the List2: 7\n"
     ]
    }
   ],
   "source": [
    "items = [20, 30, 40, 43, 65, 56, 87]\n",
    "print(f\"Number of item in the List2: {len(items)}\")"
   ]
  },
  {
   "cell_type": "code",
   "execution_count": 6,
   "id": "77cd723a",
   "metadata": {},
   "outputs": [
    {
     "name": "stdout",
     "output_type": "stream",
     "text": [
      "Artificial Interlligence\n",
      "A\n",
      "r\n",
      "t\n",
      "i\n",
      "f\n",
      "i\n",
      "c\n",
      "i\n",
      "a\n",
      "l\n",
      " \n",
      "I\n",
      "n\n",
      "t\n",
      "e\n",
      "r\n",
      "l\n",
      "l\n",
      "i\n",
      "g\n",
      "e\n",
      "n\n",
      "c\n",
      "e\n"
     ]
    }
   ],
   "source": [
    "name = \"Artificial Interlligence\"\n",
    "print(name)\n",
    "for char in name:\n",
    "    print(char)"
   ]
  },
  {
   "cell_type": "code",
   "execution_count": 7,
   "id": "09b2eaaa",
   "metadata": {},
   "outputs": [
    {
     "name": "stdout",
     "output_type": "stream",
     "text": [
      "- Your Name -\n",
      "- Your Age -\n",
      "- Your Profession -\n"
     ]
    }
   ],
   "source": [
    "listOfName = [\"- Your Name -\", \"- Your Age -\", \"- Your Profession -\"]\n",
    "for indexValue in listOfName:\n",
    "    print(indexValue)"
   ]
  },
  {
   "cell_type": "code",
   "execution_count": 9,
   "id": "cc2c845e",
   "metadata": {},
   "outputs": [
    {
     "name": "stdout",
     "output_type": "stream",
     "text": [
      "(1, 'Welcome', 2, 'Hope')\n"
     ]
    }
   ],
   "source": [
    "tupleValue = (1, \"Welcome\", 2, \"Hope\")\n",
    "print(tupleValue)"
   ]
  },
  {
   "cell_type": "code",
   "execution_count": 11,
   "id": "29fb0e88",
   "metadata": {},
   "outputs": [
    {
     "name": "stdout",
     "output_type": "stream",
     "text": [
      "((0, 1, 2, 3), ('Python', 'HOPE'))\n"
     ]
    }
   ],
   "source": [
    "tupleOne = (0, 1, 2, 3)\n",
    "tupleTwo = (\"Python\", \"HOPE\")\n",
    "tupleThree = (tupleOne, tupleTwo)\n",
    "print(tupleThree)"
   ]
  },
  {
   "cell_type": "code",
   "execution_count": 13,
   "id": "df0b9026",
   "metadata": {},
   "outputs": [
    {
     "name": "stdout",
     "output_type": "stream",
     "text": [
      "19 is odd\n",
      "25 is odd\n",
      "1 is odd\n"
     ]
    }
   ],
   "source": [
    "# print odd numbers\n",
    "numbers = [20, 10, 16, 19, 25, 1, 276, 188]\n",
    "for number in numbers:\n",
    "    if number % 2 == 1:\n",
    "        print(f\"{number} is odd\")"
   ]
  },
  {
   "cell_type": "code",
   "execution_count": 14,
   "id": "f40bae06",
   "metadata": {},
   "outputs": [
    {
     "name": "stdout",
     "output_type": "stream",
     "text": [
      "20 is Even\n",
      "10 is Even\n",
      "16 is Even\n",
      "276 is Even\n",
      "188 is Even\n"
     ]
    }
   ],
   "source": [
    "# Even Numbers\n",
    "numbers = [20, 10, 16, 19, 25, 1, 276, 188]\n",
    "for number in numbers:\n",
    "    if number % 2 == 0:\n",
    "        print(f\"{number} is Even\")"
   ]
  },
  {
   "cell_type": "code",
   "execution_count": null,
   "id": "70dc3ed6",
   "metadata": {},
   "outputs": [],
   "source": []
  }
 ],
 "metadata": {
  "kernelspec": {
   "display_name": "Python 3 (ipykernel)",
   "language": "python",
   "name": "python3"
  },
  "language_info": {
   "codemirror_mode": {
    "name": "ipython",
    "version": 3
   },
   "file_extension": ".py",
   "mimetype": "text/x-python",
   "name": "python",
   "nbconvert_exporter": "python",
   "pygments_lexer": "ipython3",
   "version": "3.11.5"
  }
 },
 "nbformat": 4,
 "nbformat_minor": 5
}
