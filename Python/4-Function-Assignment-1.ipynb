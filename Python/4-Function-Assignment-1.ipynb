{
 "cells": [
  {
   "cell_type": "code",
   "execution_count": 6,
   "id": "b3eb88c2",
   "metadata": {},
   "outputs": [],
   "source": [
    " # Create a class and function, and list out the items in the list\n",
    "def Subfields():\n",
    "    lists = [\n",
    "        \"Machine Learning\",\n",
    "        \"Neural Networks\",\n",
    "        \"Vision\",\n",
    "        \"Robotics\",\n",
    "        \"Speech Processing\",\n",
    "        \"Natural Language Processing\"\n",
    "    ]\n",
    "    for name in lists:\n",
    "        print(name)"
   ]
  },
  {
   "cell_type": "code",
   "execution_count": 7,
   "id": "c4773e7c",
   "metadata": {},
   "outputs": [
    {
     "name": "stdout",
     "output_type": "stream",
     "text": [
      "Machine Learning\n",
      "Neural Networks\n",
      "Vision\n",
      "Robotics\n",
      "Speech Processing\n",
      "Natural Language Processing\n"
     ]
    }
   ],
   "source": [
    "Subfields()\n",
    "\n"
   ]
  },
  {
   "cell_type": "code",
   "execution_count": null,
   "id": "89d22ebc",
   "metadata": {},
   "outputs": [],
   "source": [
    " # Create a function that checks whether the given number is Odd or Even\n",
    "def OddEven(number):\n",
    "    if number % 2 == 0:\n",
    "        return number\n",
    "    else:\n",
    "        return 0"
   ]
  },
  {
   "cell_type": "code",
   "execution_count": null,
   "id": "c898ede8",
   "metadata": {},
   "outputs": [],
   "source": [
    "result = OddEven(int(input(\"Enter a Number:\")))\n",
    "\n",
    "if result != 0:\n",
    "    print(f\"{result} is Even number\")"
   ]
  },
  {
   "cell_type": "code",
   "execution_count": null,
   "id": "72d9f076",
   "metadata": {},
   "outputs": [],
   "source": [
    "# Create a function that tells elegibility of marriage for male and female according to their age limit like 21 for male and 18 for female\n",
    "\n",
    "def Elegible(gender, age):\n",
    "    if gender.lower() == \"male\":\n",
    "        if age > 21:\n",
    "            print(\"ELIGIBLE\")\n",
    "        else:\n",
    "            print(\"NOT ELIGIBLE\")\n",
    "    elif gender.lower() == \"female\":\n",
    "        if age > 18:\n",
    "            print(\"ELIGIBLE\")\n",
    "        else:\n",
    "            print(\"NOT ELIGIBLE\")\n",
    "    else:\n",
    "        print(\"Gender not valid\")\n",
    "\n"
   ]
  },
  {
   "cell_type": "code",
   "execution_count": null,
   "id": "453af906",
   "metadata": {},
   "outputs": [],
   "source": [
    "gender = input(\"Your Gender:\")\n",
    "age = int(input(\"Your Age:\"))\n",
    "Elegible(gender, age)"
   ]
  },
  {
   "cell_type": "code",
   "execution_count": null,
   "id": "734b87bf",
   "metadata": {},
   "outputs": [],
   "source": [
    "# calculate the percentage of your 10th mark\n",
    "Subject1= 98\n",
    "Subject2= 87\n",
    "Subject3= 95\n",
    "Subject4= 95\n",
    "Subject5= 93\n",
    "\n",
    "def percentage():\n",
    "    total = Subject1 + Subject2 + Subject3 + Subject4 + Subject5\n",
    "    print(f\"Total : {total}\")\n",
    "    percentage = total / 5\n",
    "    print(f\"Percentage: {percentage}\")"
   ]
  },
  {
   "cell_type": "code",
   "execution_count": null,
   "id": "cbcdfd28",
   "metadata": {},
   "outputs": [],
   "source": [
    "percentage()"
   ]
  },
  {
   "cell_type": "code",
   "execution_count": null,
   "id": "15b94e96",
   "metadata": {},
   "outputs": [],
   "source": [
    "#print area and perimeter of triangle using class and functions\n",
    "\n",
    "def triangle():\n",
    "    height = int(input(\"Height:\"))\n",
    "    breadth = int(input(\"Breadth:\"))\n",
    "    print(\"Area formula: (Height*Breadth)/2\")\n",
    "    triangle = height * breadth / 2\n",
    "    print(f\"Area of Triangle: {triangle}\")\n",
    "    height1 = int(input(\"Height1:\"))\n",
    "    height2 = int(input(\"Height2:\"))\n",
    "    breadth1 = int(input(\"Breadth:\"))\n",
    "    perimeter = height1 + height2 + breadth1\n",
    "    print(\"Perimeter formula: Height1+Height2+Breadth\")\n",
    "    print(f\"Perimeter of Triangle: {perimeter}\")\n",
    "          \n",
    "          \n",
    "    "
   ]
  },
  {
   "cell_type": "markdown",
   "id": "85db7e19",
   "metadata": {},
   "source": [
    "triangle()"
   ]
  },
  {
   "cell_type": "code",
   "execution_count": null,
   "id": "e6c50c98",
   "metadata": {},
   "outputs": [],
   "source": [
    "triangle()"
   ]
  },
  {
   "cell_type": "code",
   "execution_count": null,
   "id": "4b76e1ed",
   "metadata": {},
   "outputs": [],
   "source": []
  }
 ],
 "metadata": {
  "kernelspec": {
   "display_name": "Python 3 (ipykernel)",
   "language": "python",
   "name": "python3"
  },
  "language_info": {
   "codemirror_mode": {
    "name": "ipython",
    "version": 3
   },
   "file_extension": ".py",
   "mimetype": "text/x-python",
   "name": "python",
   "nbconvert_exporter": "python",
   "pygments_lexer": "ipython3",
   "version": "3.11.5"
  }
 },
 "nbformat": 4,
 "nbformat_minor": 5
}
