{
 "cells": [
  {
   "cell_type": "code",
   "execution_count": 10,
   "id": "b740efe4",
   "metadata": {},
   "outputs": [
    {
     "name": "stdout",
     "output_type": "stream",
     "text": [
      "Enter the age: 10\n"
     ]
    }
   ],
   "source": [
    "\n",
    "def ageCategory():\n",
    "        if age < 18:\n",
    "            print(\"Childred\")\n",
    "            cate = \"Childred\"\n",
    "        elif age < 34:\n",
    "            print(\"Adult\")\n",
    "            cate = \"Adult\"\n",
    "        elif age < 59:\n",
    "            print(\"Citized\")\n",
    "            cate = \"Citized\"\n",
    "        else:\n",
    "            print(\"Senior Citized\")\n",
    "            cate = \"Senior Citized\"\n",
    "        return cate\n",
    "        \n",
    "    "
   ]
  },
  {
   "cell_type": "code",
   "execution_count": 12,
   "id": "ee46b625",
   "metadata": {},
   "outputs": [
    {
     "name": "stdout",
     "output_type": "stream",
     "text": [
      "Enter the age: 87\n",
      "Senior Citized\n"
     ]
    }
   ],
   "source": [
    "age = int(input(\"Enter the age: \"))\n",
    "age = ageCategory()"
   ]
  },
  {
   "cell_type": "code",
   "execution_count": 13,
   "id": "18778646",
   "metadata": {},
   "outputs": [
    {
     "name": "stdout",
     "output_type": "stream",
     "text": [
      "Senior Citized\n"
     ]
    }
   ],
   "source": [
    "print(age)"
   ]
  },
  {
   "cell_type": "code",
   "execution_count": 19,
   "id": "131398c9",
   "metadata": {},
   "outputs": [],
   "source": [
    "def oddEven():\n",
    "    number = int(input(\"Enter the Number:\"))\n",
    "    if number % 2 == 1:\n",
    "        print(\"Odd Number\")\n",
    "        message = \"Odd Number\"\n",
    "    else:\n",
    "        print(\"Even Number\")\n",
    "        message = \"Even Number\""
   ]
  },
  {
   "cell_type": "code",
   "execution_count": 17,
   "id": "598095ad",
   "metadata": {},
   "outputs": [
    {
     "name": "stdout",
     "output_type": "stream",
     "text": [
      "Enter the Number:30\n",
      "Even Number\n"
     ]
    }
   ],
   "source": [
    "oddEven()\n"
   ]
  },
  {
   "cell_type": "code",
   "execution_count": 18,
   "id": "9a68a977",
   "metadata": {},
   "outputs": [
    {
     "name": "stdout",
     "output_type": "stream",
     "text": [
      "Enter the Number:21\n",
      "Odd Number\n"
     ]
    }
   ],
   "source": [
    "oddEven()"
   ]
  },
  {
   "cell_type": "code",
   "execution_count": 20,
   "id": "b7410bd3",
   "metadata": {},
   "outputs": [
    {
     "name": "stdout",
     "output_type": "stream",
     "text": [
      "Enter the Number:33\n",
      "Odd Number\n"
     ]
    }
   ],
   "source": [
    "message = oddEven()"
   ]
  },
  {
   "cell_type": "code",
   "execution_count": 23,
   "id": "5f1c7c8b",
   "metadata": {},
   "outputs": [
    {
     "name": "stdout",
     "output_type": "stream",
     "text": [
      "This given number is even\n"
     ]
    }
   ],
   "source": [
    "if message == \"Odd Number\":\n",
    "    print(\"This given number is odd\")\n",
    "else:\n",
    "    print(\"This given number is even\")"
   ]
  },
  {
   "cell_type": "code",
   "execution_count": 31,
   "id": "421b8267",
   "metadata": {},
   "outputs": [],
   "source": [
    "def calculateBMI(value):\n",
    "    BMIValue = value\n",
    "\n",
    "    if BMIValue <= 18.4:\n",
    "        print(\"Underweight\")\n",
    "        message = \"Underweight\"\n",
    "    elif BMIValue <= 24.9:\n",
    "        print(\"Normal\")\n",
    "        message = \"Normal\"\n",
    "    elif BMIValue <= 29.9:\n",
    "        print(\"Overweight\")\n",
    "        message = \"Overweight\"\n",
    "    else:\n",
    "        print(\"Very Overweight\")\n",
    "        message = \"Very Overweight\""
   ]
  },
  {
   "cell_type": "code",
   "execution_count": 25,
   "id": "c2ff785b",
   "metadata": {},
   "outputs": [
    {
     "name": "stdout",
     "output_type": "stream",
     "text": [
      "Enter the BMI Index:20\n",
      "Normal\n"
     ]
    }
   ],
   "source": [
    "calculateBMI()"
   ]
  },
  {
   "cell_type": "code",
   "execution_count": 32,
   "id": "502ebf25",
   "metadata": {},
   "outputs": [
    {
     "name": "stdout",
     "output_type": "stream",
     "text": [
      "Enter the BMI Index:33\n",
      "Very Overweight\n"
     ]
    }
   ],
   "source": [
    "value = float(input(\"Enter the BMI Index:\"))\n",
    "calculateBMI(value)"
   ]
  },
  {
   "cell_type": "code",
   "execution_count": null,
   "id": "3968fc0e",
   "metadata": {},
   "outputs": [],
   "source": []
  }
 ],
 "metadata": {
  "kernelspec": {
   "display_name": "Python 3 (ipykernel)",
   "language": "python",
   "name": "python3"
  },
  "language_info": {
   "codemirror_mode": {
    "name": "ipython",
    "version": 3
   },
   "file_extension": ".py",
   "mimetype": "text/x-python",
   "name": "python",
   "nbconvert_exporter": "python",
   "pygments_lexer": "ipython3",
   "version": "3.11.5"
  }
 },
 "nbformat": 4,
 "nbformat_minor": 5
}
