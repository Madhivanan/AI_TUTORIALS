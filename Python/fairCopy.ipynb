{
 "cells": [
  {
   "cell_type": "code",
   "execution_count": 3,
   "id": "47d0f3f7",
   "metadata": {},
   "outputs": [],
   "source": [
    "from multipleFunctionsLib import FunctionAllMethods"
   ]
  },
  {
   "cell_type": "code",
   "execution_count": 5,
   "id": "3c5bfdcb",
   "metadata": {},
   "outputs": [
    {
     "data": {
      "text/plain": [
       "['Machine Learning',\n",
       " 'Neural Networks',\n",
       " 'Vision',\n",
       " 'Robotics',\n",
       " 'Speech Processing',\n",
       " 'Natural Language Processing']"
      ]
     },
     "execution_count": 5,
     "metadata": {},
     "output_type": "execute_result"
    }
   ],
   "source": [
    "FunctionAllMethods.Subfields()"
   ]
  },
  {
   "cell_type": "code",
   "execution_count": 6,
   "id": "7f061ede",
   "metadata": {},
   "outputs": [
    {
     "data": {
      "text/plain": [
       "['Machine Learning',\n",
       " 'Neural Networks',\n",
       " 'Vision',\n",
       " 'Robotics',\n",
       " 'Speech Processing',\n",
       " 'Natural Language Processing']"
      ]
     },
     "execution_count": 6,
     "metadata": {},
     "output_type": "execute_result"
    }
   ],
   "source": [
    "FunctionAllMethods.Subfields()"
   ]
  },
  {
   "cell_type": "code",
   "execution_count": 7,
   "id": "9039028b",
   "metadata": {},
   "outputs": [
    {
     "name": "stdout",
     "output_type": "stream",
     "text": [
      "Enter a Number:6658\n",
      "6658 is Even number\n"
     ]
    }
   ],
   "source": [
    "result = FunctionAllMethods.OddEven(int(input(\"Enter a Number:\")))\n",
    "\n",
    "if result != 0:\n",
    "    print(f\"{result} is Even number\")"
   ]
  },
  {
   "cell_type": "code",
   "execution_count": null,
   "id": "6e5347cd",
   "metadata": {},
   "outputs": [],
   "source": []
  }
 ],
 "metadata": {
  "kernelspec": {
   "display_name": "Python 3 (ipykernel)",
   "language": "python",
   "name": "python3"
  },
  "language_info": {
   "codemirror_mode": {
    "name": "ipython",
    "version": 3
   },
   "file_extension": ".py",
   "mimetype": "text/x-python",
   "name": "python",
   "nbconvert_exporter": "python",
   "pygments_lexer": "ipython3",
   "version": "3.11.5"
  }
 },
 "nbformat": 4,
 "nbformat_minor": 5
}
