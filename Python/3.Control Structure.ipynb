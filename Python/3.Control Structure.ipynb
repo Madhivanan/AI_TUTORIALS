{
 "cells": [
  {
   "cell_type": "code",
   "execution_count": 3,
   "id": "4511b659",
   "metadata": {},
   "outputs": [
    {
     "name": "stdout",
     "output_type": "stream",
     "text": [
      "Enter your age:18\n",
      "Adult\n"
     ]
    }
   ],
   "source": [
    "age = int(input(\"Enter your age:\"))\n",
    "\n",
    "if(age == 18):\n",
    "    print(\"Adult\")"
   ]
  },
  {
   "cell_type": "code",
   "execution_count": 8,
   "id": "14c1e859",
   "metadata": {},
   "outputs": [
    {
     "name": "stdout",
     "output_type": "stream",
     "text": [
      "Drain water.\n"
     ]
    }
   ],
   "source": [
    "water_level = 50\n",
    "if(water_level >= 50):\n",
    "    print(\"Drain water.\")"
   ]
  },
  {
   "cell_type": "code",
   "execution_count": 10,
   "id": "ec138051",
   "metadata": {},
   "outputs": [
    {
     "name": "stdout",
     "output_type": "stream",
     "text": [
      "Enter your height170\n",
      "Can Ride\n"
     ]
    }
   ],
   "source": [
    "# ifelse - roller coaster\n",
    "height = int(input(\"Enter your height\"))\n",
    "\n",
    "if(height > 120):\n",
    "    print(\"Can Ride\")\n",
    "else:\n",
    "    print(\"Can't Ride\")\n"
   ]
  },
  {
   "cell_type": "code",
   "execution_count": 12,
   "id": "251c2587",
   "metadata": {},
   "outputs": [
    {
     "name": "stdout",
     "output_type": "stream",
     "text": [
      "Enter your age:17\n",
      "Children\n"
     ]
    }
   ],
   "source": [
    "# Check Age\n",
    "\n",
    "age = int(input(\"Enter your age:\"))\n",
    "\n",
    "if(age<18):\n",
    "    print(\"Children\")\n",
    "else:\n",
    "    print(\"Adult\")"
   ]
  },
  {
   "cell_type": "code",
   "execution_count": 15,
   "id": "2f7f4d3d",
   "metadata": {},
   "outputs": [
    {
     "name": "stdout",
     "output_type": "stream",
     "text": [
      "Enter your height:120\n",
      "Can you ride roller coaster!:\n",
      "Enter your age:30\n",
      "Please pay $20!:)\n"
     ]
    }
   ],
   "source": [
    "# Nested if else\n",
    "height = int(input(\"Enter your height:\"))\n",
    "if height >= 120:\n",
    "    print(\"Can you ride roller coaster!:\")\n",
    "    age = int(input(\"Enter your age:\"))\n",
    "    if age > 18:\n",
    "        print(\"Please pay $20!:)\")\n",
    "    else:\n",
    "        print(\"Please pay $10!:)\")\n",
    "else:\n",
    "    print(\"Sorry, you can't ride roller coaster!:\")\n",
    "\n",
    "    "
   ]
  },
  {
   "cell_type": "code",
   "execution_count": 17,
   "id": "23659df6",
   "metadata": {},
   "outputs": [
    {
     "name": "stdout",
     "output_type": "stream",
     "text": [
      "Enter your age:10\n",
      "Childred\n"
     ]
    }
   ],
   "source": [
    "# elif\n",
    "age = int(input(\"Enter your age:\"))\n",
    "if age < 18:\n",
    "    print(\"Childred\")\n",
    "elif age < 34:\n",
    "    print(\"Adult\")\n",
    "elif age < 59:\n",
    "    print(\"Citized\")\n",
    "else:\n",
    "    print(\"Senior Citized\")\n",
    "    \n"
   ]
  },
  {
   "cell_type": "code",
   "execution_count": 18,
   "id": "60d318e2",
   "metadata": {},
   "outputs": [
    {
     "name": "stdout",
     "output_type": "stream",
     "text": [
      "Enter your height:126\n",
      "Can you ride roller coaster!\n",
      "Enter you age:3\n",
      "Please pay $5\n"
     ]
    }
   ],
   "source": [
    "# All condition\n",
    "height = int(input(\"Enter your height:\"))\n",
    "\n",
    "if height >= 120:\n",
    "    print(\"Can you ride roller coaster!\")\n",
    "    age = int(input(\"Enter you age:\"))\n",
    "    if age < 12:\n",
    "        print(\"Please pay $5\")\n",
    "    elif age < 18:\n",
    "        print(\"Please pay $10\")\n",
    "    else:\n",
    "        print(\"Please pay $20\")\n",
    "else:\n",
    "    print(\"You can't ride roller coaste!\")"
   ]
  },
  {
   "cell_type": "code",
   "execution_count": 20,
   "id": "8061c53c",
   "metadata": {},
   "outputs": [
    {
     "name": "stdout",
     "output_type": "stream",
     "text": [
      "Adult\n",
      "Citized\n",
      "Senior Citized\n",
      "Adult\n",
      "Senior Citized\n",
      "Childred\n",
      "Childred\n",
      "Senior Citized\n",
      "Citized\n",
      "Citized\n"
     ]
    }
   ],
   "source": [
    "# LOOP\n",
    "listOfAges = [23, 54, 67, 23, 67, 9, 14, 90, 34, 56]\n",
    "for age in listOfAges:\n",
    "    if age < 18:\n",
    "        print(\"Childred\")\n",
    "    elif age < 34:\n",
    "        print(\"Adult\")\n",
    "    elif age < 59:\n",
    "        print(\"Citized\")\n",
    "    else:\n",
    "        print(\"Senior Citized\")"
   ]
  },
  {
   "cell_type": "code",
   "execution_count": 22,
   "id": "6a98058d",
   "metadata": {},
   "outputs": [
    {
     "name": "stdout",
     "output_type": "stream",
     "text": [
      "Enter the value:21\n",
      "Add Number\n"
     ]
    }
   ],
   "source": [
    "# Logic\n",
    "numericValue = int(input(\"Enter the value:\"))\n",
    "\n",
    "if numericValue % 2 == 0:\n",
    "    print(\"Even Number\")\n",
    "else:\n",
    "    print(\"Add Number\")"
   ]
  },
  {
   "cell_type": "markdown",
   "id": "51f4d7d6",
   "metadata": {},
   "source": [
    "# Range\n"
   ]
  },
  {
   "cell_type": "code",
   "execution_count": 12,
   "id": "7a551db6",
   "metadata": {},
   "outputs": [
    {
     "name": "stdout",
     "output_type": "stream",
     "text": [
      "1\n"
     ]
    }
   ],
   "source": [
    "# Range\n",
    "\n",
    "for num in range(1,10,9):\n",
    "    print(num)"
   ]
  },
  {
   "cell_type": "code",
   "execution_count": null,
   "id": "261a46ae",
   "metadata": {},
   "outputs": [],
   "source": []
  }
 ],
 "metadata": {
  "kernelspec": {
   "display_name": "Python 3 (ipykernel)",
   "language": "python",
   "name": "python3"
  },
  "language_info": {
   "codemirror_mode": {
    "name": "ipython",
    "version": 3
   },
   "file_extension": ".py",
   "mimetype": "text/x-python",
   "name": "python",
   "nbconvert_exporter": "python",
   "pygments_lexer": "ipython3",
   "version": "3.11.5"
  }
 },
 "nbformat": 4,
 "nbformat_minor": 5
}
