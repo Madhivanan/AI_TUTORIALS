{
 "cells": [
  {
   "cell_type": "code",
   "execution_count": 3,
   "id": "0d14d8f9",
   "metadata": {},
   "outputs": [
    {
     "name": "stdout",
     "output_type": "stream",
     "text": [
      "Add\n",
      "40\n"
     ]
    }
   ],
   "source": [
    "num1 = 10\n",
    "num2 = 30\n",
    "result = num1+num2\n",
    "print(\"Add\")\n",
    "print(result)"
   ]
  },
  {
   "cell_type": "code",
   "execution_count": 5,
   "id": "67245ccc",
   "metadata": {},
   "outputs": [
    {
     "name": "stdout",
     "output_type": "stream",
     "text": [
      "110\n"
     ]
    }
   ],
   "source": [
    "num1 = 50\n",
    "num2 = 60\n",
    "resultAdd = num1 + num2\n",
    "print(resultAdd)"
   ]
  },
  {
   "cell_type": "code",
   "execution_count": 6,
   "id": "5187556d",
   "metadata": {},
   "outputs": [
    {
     "name": "stdout",
     "output_type": "stream",
     "text": [
      "Madhivanan\n"
     ]
    }
   ],
   "source": [
    "firstName = \"Madhivanan\"\n",
    "print(firstName)"
   ]
  },
  {
   "cell_type": "code",
   "execution_count": 7,
   "id": "461ed9ec",
   "metadata": {},
   "outputs": [
    {
     "name": "stdout",
     "output_type": "stream",
     "text": [
      "The addition of two numbers\n",
      "The number1: 20\n",
      "The number1: 30\n",
      "The result is: 50\n"
     ]
    }
   ],
   "source": [
    "print(\"The addition of two numbers\")\n",
    "num1 = 20\n",
    "print(\"The number1:\", num1)\n",
    "num2 = 30\n",
    "print(\"The number1:\", num2)\n",
    "result = num1+num2\n",
    "print(\"The result is:\", result)"
   ]
  },
  {
   "cell_type": "code",
   "execution_count": 13,
   "id": "83f6a829",
   "metadata": {},
   "outputs": [
    {
     "name": "stdout",
     "output_type": "stream",
     "text": [
      "Enter the first value:60\n",
      "Enter the second value:30\n",
      "Add result: 90\n"
     ]
    }
   ],
   "source": [
    "number1 = input(\"Enter the first value:\")\n",
    "number2 = input(\"Enter the second value:\")\n",
    "addResult =  int(number1)+int(number2)\n",
    "print(\"Add result:\",addResult)"
   ]
  },
  {
   "cell_type": "code",
   "execution_count": null,
   "id": "5cd4139c",
   "metadata": {},
   "outputs": [],
   "source": []
  }
 ],
 "metadata": {
  "kernelspec": {
   "display_name": "Python 3 (ipykernel)",
   "language": "python",
   "name": "python3"
  },
  "language_info": {
   "codemirror_mode": {
    "name": "ipython",
    "version": 3
   },
   "file_extension": ".py",
   "mimetype": "text/x-python",
   "name": "python",
   "nbconvert_exporter": "python",
   "pygments_lexer": "ipython3",
   "version": "3.11.5"
  }
 },
 "nbformat": 4,
 "nbformat_minor": 5
}
