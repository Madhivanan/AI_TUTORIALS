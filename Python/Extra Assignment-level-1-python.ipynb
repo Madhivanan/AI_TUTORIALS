{
 "cells": [
  {
   "cell_type": "code",
   "execution_count": 2,
   "id": "a85cd7c8",
   "metadata": {},
   "outputs": [
    {
     "name": "stdout",
     "output_type": "stream",
     "text": [
      "HOPE AI\n"
     ]
    }
   ],
   "source": [
    "name = \"HOPE AI\"\n",
    "print(name)"
   ]
  },
  {
   "cell_type": "code",
   "execution_count": 6,
   "id": "e2f7b6e3",
   "metadata": {},
   "outputs": [
    {
     "name": "stdout",
     "output_type": "stream",
     "text": [
      "Enter yourinstute name? :HOPE AI\n"
     ]
    }
   ],
   "source": [
    "name = input(\"Enter yourinstute name? :\")\n"
   ]
  },
  {
   "cell_type": "code",
   "execution_count": 10,
   "id": "112b9a0b",
   "metadata": {},
   "outputs": [
    {
     "name": "stdout",
     "output_type": "stream",
     "text": [
      "Enter your name: Madhivanan\n",
      "Enter your age: 35\n",
      "Enter your school name: govt school\n",
      "Enter your degree: MCA\n"
     ]
    }
   ],
   "source": [
    "name = input(\"Enter your name: \")\n",
    "age = int(input(\"Enter your age: \"))\n",
    "schoolName = input(\"Enter your school name: \")\n",
    "degree = input(\"Enter your degree: \")"
   ]
  },
  {
   "cell_type": "code",
   "execution_count": 13,
   "id": "207ee5f1",
   "metadata": {},
   "outputs": [
    {
     "name": "stdout",
     "output_type": "stream",
     "text": [
      "a = 43\n",
      "b = 34\n",
      "Add = 77\n"
     ]
    }
   ],
   "source": [
    "# ADDITION\n",
    "a = 43\n",
    "b = 34\n",
    "add = a+b\n",
    "print(f\"a= {a}\")\n",
    "print(f\"b= {b}\")\n",
    "print(f\"Add = {add}\")"
   ]
  },
  {
   "cell_type": "code",
   "execution_count": 16,
   "id": "da743d05",
   "metadata": {},
   "outputs": [
    {
     "name": "stdout",
     "output_type": "stream",
     "text": [
      "a= 43\n",
      "b= 34\n",
      "Sub = 9\n"
     ]
    }
   ],
   "source": [
    "# SUBTRACTION\n",
    "a = 43\n",
    "b = 34\n",
    "print(f\"a= {a}\")\n",
    "print(f\"b= {b}\")\n",
    "print(f\"Sub = {a-b}\")"
   ]
  },
  {
   "cell_type": "code",
   "execution_count": 18,
   "id": "d67631fc",
   "metadata": {},
   "outputs": [
    {
     "name": "stdout",
     "output_type": "stream",
     "text": [
      "a= 63\n",
      "b= 97\n",
      "Mul = 6111\n"
     ]
    }
   ],
   "source": [
    "# MULTIPLICATION\n",
    "a = 63\n",
    "b = 97\n",
    "print(f\"a= {a}\")\n",
    "print(f\"b= {b}\")\n",
    "print(f\"Mul = {a*b}\")"
   ]
  },
  {
   "cell_type": "code",
   "execution_count": 22,
   "id": "bdf7b226",
   "metadata": {},
   "outputs": [
    {
     "name": "stdout",
     "output_type": "stream",
     "text": [
      "a= 76\n",
      "b= 31\n",
      "Div = 2.4516129032258065\n"
     ]
    }
   ],
   "source": [
    "# DIVITION\n",
    "a = 76\n",
    "b = 31\n",
    "print(f\"a=\",a)\n",
    "print(f\"b=\",b)\n",
    "divition = a/b\n",
    "print(f\"Div = {divition}\")"
   ]
  },
  {
   "cell_type": "code",
   "execution_count": 24,
   "id": "6432720e",
   "metadata": {},
   "outputs": [
    {
     "name": "stdout",
     "output_type": "stream",
     "text": [
      "a= 76\n",
      "b= 31\n",
      "Floor Div = 2\n"
     ]
    }
   ],
   "source": [
    "#FLOOR DIVITION\n",
    "a = 76\n",
    "b = 31\n",
    "print(f\"a=\",a)\n",
    "print(f\"b=\",b)\n",
    "divition = int(a/b)\n",
    "print(f\"Floor Div = {divition}\")"
   ]
  },
  {
   "cell_type": "code",
   "execution_count": 30,
   "id": "088e81e0",
   "metadata": {},
   "outputs": [
    {
     "name": "stdout",
     "output_type": "stream",
     "text": [
      "a= 76\n",
      "b= 31\n",
      "Modulo = 14\n"
     ]
    }
   ],
   "source": [
    "# MODULO\n",
    "a = 76\n",
    "b = 31\n",
    "divition = int(a/b)\n",
    "addition = divition * b\n",
    "result = a - addition\n",
    "print(f\"a= {a}\")\n",
    "print(f\"b= {b}\")\n",
    "print(f\"Modulo = {result}\")"
   ]
  },
  {
   "cell_type": "code",
   "execution_count": 32,
   "id": "8f3ed03f",
   "metadata": {},
   "outputs": [
    {
     "name": "stdout",
     "output_type": "stream",
     "text": [
      "a= 4\n",
      "b= 4\n",
      "Power: 256\n"
     ]
    }
   ],
   "source": [
    "# POWER\n",
    "a = 4\n",
    "b = 4\n",
    "result = ((a*a) * (b*b))\n",
    "print(\"a=\", a)\n",
    "print(\"b=\", b)\n",
    "print(f\"Power: {result}\")"
   ]
  },
  {
   "cell_type": "code",
   "execution_count": null,
   "id": "fd52cad6",
   "metadata": {},
   "outputs": [],
   "source": []
  }
 ],
 "metadata": {
  "kernelspec": {
   "display_name": "Python 3 (ipykernel)",
   "language": "python",
   "name": "python3"
  },
  "language_info": {
   "codemirror_mode": {
    "name": "ipython",
    "version": 3
   },
   "file_extension": ".py",
   "mimetype": "text/x-python",
   "name": "python",
   "nbconvert_exporter": "python",
   "pygments_lexer": "ipython3",
   "version": "3.11.5"
  }
 },
 "nbformat": 4,
 "nbformat_minor": 5
}
