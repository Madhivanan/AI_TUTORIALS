{
 "cells": [
  {
   "cell_type": "code",
   "execution_count": 4,
   "id": "b91c9e22",
   "metadata": {},
   "outputs": [
    {
     "name": "stdout",
     "output_type": "stream",
     "text": [
      "Value: 10\n",
      "Correct\n"
     ]
    }
   ],
   "source": [
    "value = 10\n",
    "print(f\"Value: {value}\")\n",
    "if value == 10:\n",
    "    print(\"Correct\")"
   ]
  },
  {
   "cell_type": "code",
   "execution_count": 5,
   "id": "0e50e125",
   "metadata": {},
   "outputs": [
    {
     "name": "stdout",
     "output_type": "stream",
     "text": [
      "Enter the password: HOPE@123\n",
      "Your password is correct\n"
     ]
    }
   ],
   "source": [
    "password = \"HOPE@123\"\n",
    "enterPassword = input(\"Enter the password: \")\n",
    "if password == enterPassword:\n",
    "    print(\"Your password is correct\")\n",
    "else:\n",
    "    print(\"Your password is not correct\")"
   ]
  },
  {
   "cell_type": "code",
   "execution_count": 7,
   "id": "a0c0c9eb",
   "metadata": {},
   "outputs": [
    {
     "name": "stdout",
     "output_type": "stream",
     "text": [
      "Age: 33\n",
      "Adult\n"
     ]
    }
   ],
   "source": [
    "age = int(input(\"Age: \"))\n",
    "if age < 18:\n",
    "    print(\"Children\")\n",
    "elif age < 34:\n",
    "    print(\"Adult\")\n",
    "elif age < 59:\n",
    "    print(\"Citized\")\n",
    "else:\n",
    "    print(\"Senior Citized\")"
   ]
  },
  {
   "cell_type": "code",
   "execution_count": 20,
   "id": "8ba29cd2",
   "metadata": {},
   "outputs": [
    {
     "name": "stdout",
     "output_type": "stream",
     "text": [
      "Enter the any number: -10\n"
     ]
    }
   ],
   "source": [
    "number = int(input(\"Enter the any number: \"))\n",
    "if number > 0:\n",
    "    print(f\"{number} is passitive\")"
   ]
  },
  {
   "cell_type": "code",
   "execution_count": 25,
   "id": "610b487e",
   "metadata": {},
   "outputs": [
    {
     "name": "stdout",
     "output_type": "stream",
     "text": [
      "Enter a number to check: 22\n",
      "No is not divisible by 5\n"
     ]
    }
   ],
   "source": [
    "number = int(input(\"Enter a number to check: \"))\n",
    "if number % 5 != 0:\n",
    "    print(f\"No is not divisible by 5\")"
   ]
  },
  {
   "cell_type": "code",
   "execution_count": null,
   "id": "cb6ba526",
   "metadata": {},
   "outputs": [],
   "source": []
  }
 ],
 "metadata": {
  "kernelspec": {
   "display_name": "Python 3 (ipykernel)",
   "language": "python",
   "name": "python3"
  },
  "language_info": {
   "codemirror_mode": {
    "name": "ipython",
    "version": 3
   },
   "file_extension": ".py",
   "mimetype": "text/x-python",
   "name": "python",
   "nbconvert_exporter": "python",
   "pygments_lexer": "ipython3",
   "version": "3.11.5"
  }
 },
 "nbformat": 4,
 "nbformat_minor": 5
}
