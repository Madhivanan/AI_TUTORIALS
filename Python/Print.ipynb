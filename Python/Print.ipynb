{
 "cells": [
  {
   "cell_type": "code",
   "execution_count": 1,
   "id": "8e65ad92",
   "metadata": {},
   "outputs": [
    {
     "name": "stdout",
     "output_type": "stream",
     "text": [
      "\n"
     ]
    }
   ],
   "source": [
    "print()"
   ]
  },
  {
   "cell_type": "code",
   "execution_count": 2,
   "id": "e2e31416",
   "metadata": {},
   "outputs": [
    {
     "name": "stdout",
     "output_type": "stream",
     "text": [
      "Welcome to Hope Ai\n"
     ]
    }
   ],
   "source": [
    "print(\"Welcome to Hope Ai\")"
   ]
  },
  {
   "cell_type": "code",
   "execution_count": 3,
   "id": "a4fecdb3",
   "metadata": {},
   "outputs": [
    {
     "name": "stdout",
     "output_type": "stream",
     "text": [
      "123456789\n"
     ]
    }
   ],
   "source": [
    "print(\"123456789\")"
   ]
  },
  {
   "cell_type": "code",
   "execution_count": 4,
   "id": "5b65c27d",
   "metadata": {},
   "outputs": [
    {
     "name": "stdout",
     "output_type": "stream",
     "text": [
      "Hai this is madhivanan\n"
     ]
    }
   ],
   "source": [
    "print('Hai this is madhivanan')"
   ]
  },
  {
   "cell_type": "code",
   "execution_count": 10,
   "id": "d52443ec",
   "metadata": {},
   "outputs": [],
   "source": [
    "num1 = 10"
   ]
  },
  {
   "cell_type": "code",
   "execution_count": 11,
   "id": "9c551c67",
   "metadata": {},
   "outputs": [],
   "source": [
    "num2 = 30"
   ]
  },
  {
   "cell_type": "code",
   "execution_count": 12,
   "id": "053b4e9d",
   "metadata": {},
   "outputs": [],
   "source": [
    "result = num1 + num2"
   ]
  },
  {
   "cell_type": "code",
   "execution_count": 13,
   "id": "c41ff326",
   "metadata": {},
   "outputs": [
    {
     "name": "stdout",
     "output_type": "stream",
     "text": [
      "40\n"
     ]
    }
   ],
   "source": [
    "print(result)"
   ]
  },
  {
   "cell_type": "code",
   "execution_count": null,
   "id": "bb0854d1",
   "metadata": {},
   "outputs": [],
   "source": []
  }
 ],
 "metadata": {
  "kernelspec": {
   "display_name": "Python 3 (ipykernel)",
   "language": "python",
   "name": "python3"
  },
  "language_info": {
   "codemirror_mode": {
    "name": "ipython",
    "version": 3
   },
   "file_extension": ".py",
   "mimetype": "text/x-python",
   "name": "python",
   "nbconvert_exporter": "python",
   "pygments_lexer": "ipython3",
   "version": "3.11.5"
  }
 },
 "nbformat": 4,
 "nbformat_minor": 5
}
